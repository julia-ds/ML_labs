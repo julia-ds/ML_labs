{
 "cells": [
  {
   "cell_type": "markdown",
   "metadata": {},
   "source": [
    "## Lab 2"
   ]
  },
  {
   "cell_type": "markdown",
   "metadata": {},
   "source": [
    "### Part 3. Poetry generation\n",
    "\n",
    "Let's try to generate some poetry using RNNs. \n",
    "\n",
    "You have several choices here: \n",
    "\n",
    "* The Shakespeare sonnets, file `sonnets.txt` available in the notebook directory.\n",
    "\n",
    "* Роман в стихах \"Евгений Онегин\" Александра Сергеевича Пушкина. В предобработанном виде доступен по [ссылке](https://github.com/attatrol/data_sources/blob/master/onegin.txt).\n",
    "\n",
    "* Some other text source, if it will be approved by the course staff.\n",
    "\n",
    "Text generation can be designed in several steps:\n",
    "    \n",
    "1. Data loading.\n",
    "2. Dictionary generation.\n",
    "3. Data preprocessing.\n",
    "4. Model (neural network) training.\n",
    "5. Text generation (model evaluation).\n"
   ]
  },
  {
   "cell_type": "code",
   "execution_count": 1,
   "metadata": {},
   "outputs": [],
   "source": [
    "import string\n",
    "import os\n",
    "\n",
    "import numpy as np\n",
    "import torch, torch.nn as nn\n",
    "import torch.nn.functional as F\n",
    "\n",
    "from collections import Counter"
   ]
  },
  {
   "cell_type": "markdown",
   "metadata": {},
   "source": [
    "### Data loading: Shakespeare"
   ]
  },
  {
   "cell_type": "markdown",
   "metadata": {},
   "source": [
    "Shakespeare sonnets are awailable at this [link](http://www.gutenberg.org/ebooks/1041?msg=welcome_stranger). In addition, they are stored in the same directory as this notebook (`sonnetes.txt`). Simple preprocessing is already done for you in the next cell: all technical info is dropped."
   ]
  },
  {
   "cell_type": "code",
   "execution_count": 2,
   "metadata": {},
   "outputs": [],
   "source": [
    "if not os.path.exists('sonnets.txt'):\n",
    "    !wget https://raw.githubusercontent.com/girafe-ai/ml-mipt/21f_basic/homeworks_basic/lab02_deep_learning/sonnets.txt\n",
    "\n",
    "with open('sonnets.txt', 'r') as iofile:\n",
    "    text = iofile.readlines()\n",
    "    \n",
    "TEXT_START = 45\n",
    "TEXT_END = -368\n",
    "text = text[TEXT_START : TEXT_END]\n",
    "assert len(text) == 2616"
   ]
  },
  {
   "cell_type": "markdown",
   "metadata": {},
   "source": [
    "In opposite to the in-class practice, this time we want to predict complex text. Let's reduce the complexity of the task and lowercase all the symbols.\n",
    "\n",
    "Now variable `text` is a list of strings. Join all the strings into one and lowercase it."
   ]
  },
  {
   "cell_type": "code",
   "execution_count": 3,
   "metadata": {},
   "outputs": [
    {
     "name": "stdout",
     "output_type": "stream",
     "text": [
      "OK!\n"
     ]
    }
   ],
   "source": [
    "# Join all the strings into one and lowercase it\n",
    "# Put result into variable text.\n",
    "\n",
    "# Your great code here\n",
    "lower_text = [e.lower() for e in text]\n",
    "text = ''.join(lower_text)\n",
    "\n",
    "assert len(text) == 100225, 'Are you sure you have concatenated all the strings?'\n",
    "assert not any([x in set(text) for x in string.ascii_uppercase]), 'Uppercase letters are present'\n",
    "print('OK!')"
   ]
  },
  {
   "cell_type": "markdown",
   "metadata": {},
   "source": [
    "### Data loading: \"Евгений Онегин\"\n"
   ]
  },
  {
   "cell_type": "code",
   "execution_count": 5,
   "metadata": {},
   "outputs": [],
   "source": [
    "!wget https://raw.githubusercontent.com/attatrol/data_sources/master/onegin.txt\n",
    "    \n",
    "with open('onegin.txt', 'r', encoding='utf-8') as iofile:\n",
    "    text = iofile.readlines()\n",
    "    \n",
    "text = [x.replace('\\t\\t', '') for x in text]"
   ]
  },
  {
   "cell_type": "markdown",
   "metadata": {},
   "source": [
    "In opposite to the in-class practice, this time we want to predict complex text. Let's reduce the complexity of the task and lowercase all the symbols.\n",
    "\n",
    "Now variable `text` is a list of strings. Join all the strings into one and lowercase it."
   ]
  },
  {
   "cell_type": "code",
   "execution_count": 6,
   "metadata": {},
   "outputs": [],
   "source": [
    "# Join all the strings into one and lowercase it\n",
    "# Put result into variable text.\n",
    "lower_text = [e.lower() for e in text]\n",
    "text = ''.join(lower_text)\n",
    "Your great code here\n"
   ]
  },
  {
   "cell_type": "markdown",
   "metadata": {},
   "source": [
    "Put all the characters, that you've seen in the text, into variable `tokens`."
   ]
  },
  {
   "cell_type": "code",
   "execution_count": 4,
   "metadata": {},
   "outputs": [],
   "source": [
    "out = set()\n",
    "for w in text:\n",
    "    out.update(set(w))\n",
    "\n",
    "tokens = sorted(set(out))"
   ]
  },
  {
   "cell_type": "markdown",
   "metadata": {},
   "source": [
    "Create dictionary `token_to_idx = {<char>: <index>}` and dictionary `idx_to_token = {<index>: <char>}`"
   ]
  },
  {
   "cell_type": "code",
   "execution_count": 5,
   "metadata": {},
   "outputs": [],
   "source": [
    "# dict <index>:<char>\n",
    "# Your great code here\n",
    "idx_to_token = {idx: token for idx, token in enumerate(tokens)}\n",
    "\n",
    "# dict <char>:<index>\n",
    "# Your great code here\n",
    "token_to_idx = {token: idx for idx, token in enumerate(tokens)}"
   ]
  },
  {
   "cell_type": "code",
   "execution_count": 6,
   "metadata": {},
   "outputs": [],
   "source": [
    "batch_size = 256\n",
    "\n",
    "def prepare_data(text, tokens, token_to_idx, idx_to_token, seq_len, step = 1):\n",
    "    sentences, next_tokens = [], []\n",
    "    for i in range(0, len(text) - seq_len, step):\n",
    "        sentences.append(text[i : i + seq_len])\n",
    "        next_tokens.append(text[i + seq_len])\n",
    "    x = np.zeros((len(sentences), seq_len, len(tokens)))\n",
    "    y = np.zeros((len(sentences), len(tokens)))\n",
    "    for i, sentence in enumerate(sentences):\n",
    "        for t, token in enumerate(sentence):\n",
    "            x[i, t, token_to_idx[token]] = 1\n",
    "        y[i, token_to_idx[next_tokens[i]]] = 1  \n",
    "    return x, y"
   ]
  },
  {
   "cell_type": "code",
   "execution_count": 7,
   "metadata": {},
   "outputs": [],
   "source": [
    "x, y = prepare_data(text, tokens, token_to_idx, idx_to_token, seq_len = 64, step = 1)"
   ]
  },
  {
   "cell_type": "code",
   "execution_count": 8,
   "metadata": {},
   "outputs": [
    {
     "data": {
      "text/plain": [
       "((100161, 64, 38), (100161, 38))"
      ]
     },
     "execution_count": 8,
     "metadata": {},
     "output_type": "execute_result"
    }
   ],
   "source": [
    "x.shape, y.shape"
   ]
  },
  {
   "cell_type": "markdown",
   "metadata": {},
   "source": [
    "*Comment: in this task we have only 38 different tokens, so let's use one-hot encoding.*"
   ]
  },
  {
   "cell_type": "markdown",
   "metadata": {},
   "source": [
    "### Building the model"
   ]
  },
  {
   "cell_type": "markdown",
   "metadata": {},
   "source": [
    "Now we want to build and train recurrent neural net which would be able to something similar to Shakespeare's poetry.\n",
    "\n",
    "Let's use vanilla RNN, similar to the one created during the lesson."
   ]
  },
  {
   "cell_type": "code",
   "execution_count": 9,
   "metadata": {},
   "outputs": [],
   "source": [
    "class VanillaRNN(nn.Module):\n",
    "    def __init__(self, n_tokens = len(tokens), hidden_dim = 128, emb_dim = 128,\n",
    "                 n_layers = 1):\n",
    "        super(VanillaRNN, self).__init__()\n",
    "        self.hidden_dim = hidden_dim\n",
    "        self.emb_dim = emb_dim\n",
    "        self.n_layers = n_layers\n",
    "        self.n_tokens = n_tokens\n",
    "        \n",
    "        self.embedding = nn.Embedding(n_tokens, self.emb_dim)\n",
    "        self.rnn = nn.RNN(self.emb_dim, self.hidden_dim, batch_first =  True)\n",
    "        self.dropout  = nn.Dropout(.35)\n",
    "        self.hid_to_logits = nn.Linear(self.hidden_dim, n_tokens)\n",
    "    \n",
    "    def forward(self, x, h_prev):\n",
    "        x_emb = self.embedding(x)\n",
    "        h_seq, h = self.rnn(x_emb, h_prev)\n",
    "        h_seq = self.dropout(h_seq)\n",
    "        next_logits = self.hid_to_logits(h_seq)\n",
    "        return next_logits, h\n",
    "    \n",
    "    def initial_state(self, batch_size):\n",
    "        weight = next(self.parameters()).data\n",
    "        return weight.new(self.n_layers, batch_size, self.hidden_dim).zero_().to(device)"
   ]
  },
  {
   "cell_type": "code",
   "execution_count": 11,
   "metadata": {},
   "outputs": [
    {
     "name": "stdout",
     "output_type": "stream",
     "text": [
      "Loss after the epoch 1 is 2.250314276236707\n",
      "Loss after the epoch 2 is 1.9842031736812933\n",
      "Loss after the epoch 3 is 1.9100817179740848\n",
      "Loss after the epoch 4 is 1.8677554798248175\n",
      "Loss after the epoch 5 is 1.8372664811361172\n",
      "Loss after the epoch 6 is 1.8138892595725291\n",
      "Loss after the epoch 7 is 1.7967583773386142\n",
      "Loss after the epoch 8 is 1.78134466071263\n",
      "Loss after the epoch 9 is 1.772265812929939\n",
      "Loss after the epoch 10 is 1.7569767358662831\n",
      "Loss after the epoch 11 is 1.751299542234377\n",
      "Loss after the epoch 12 is 1.7405535757084332\n",
      "Loss after the epoch 13 is 1.735293446294487\n",
      "Loss after the epoch 14 is 1.7274066907975374\n",
      "Loss after the epoch 15 is 1.7207894386232967\n",
      "Loss after the epoch 16 is 1.7130636958514942\n",
      "Loss after the epoch 17 is 1.7086279084310507\n",
      "Loss after the epoch 18 is 1.7036241960647467\n",
      "Loss after the epoch 19 is 1.701109147132815\n",
      "Loss after the epoch 20 is 1.6937498793272716\n"
     ]
    }
   ],
   "source": [
    "device = torch.device('cuda') if torch.cuda.is_available() else torch.device('cpu')\n",
    "model_rnn = VanillaRNN()\n",
    "model_rnn.to(device)\n",
    "\n",
    "opt = torch.optim.Adam(model_rnn.parameters())\n",
    "model_rnn.to(device)\n",
    "criterion = nn.CrossEntropyLoss()\n",
    "\n",
    "n_epochs = 20\n",
    "history = []\n",
    "_ = model_rnn.train()\n",
    "\n",
    "for epoch in range(n_epochs):\n",
    "    ep_history = []\n",
    "    hidden_state = model_rnn.initial_state(batch_size)\n",
    "    for batch_ind in range(batch_size, x.shape[0], batch_size):\n",
    "        \n",
    "        opt.zero_grad()\n",
    "        x_batch = torch.argmax(torch.Tensor(x[batch_ind - batch_size : batch_ind]), dim = -1).to(device)\n",
    "        y_batch = torch.argmax(torch.Tensor(y[batch_ind - batch_size : batch_ind]), dim = -1).to(device)\n",
    "\n",
    "\n",
    "        seq, hidden_state = model_rnn(x_batch, hidden_state)\n",
    "        loss = criterion(seq[:, -1].contiguous(), y_batch.contiguous())  \n",
    "        \n",
    "        loss.backward()\n",
    "        opt.step()  \n",
    "        ep_history.append(loss.item())\n",
    "        hidden_state = hidden_state.detach()\n",
    "\n",
    "    history.append(np.mean(ep_history))\n",
    "    print(f'Loss after the epoch {epoch + 1} is {history[-1]}')"
   ]
  },
  {
   "cell_type": "markdown",
   "metadata": {},
   "source": [
    "Plot the loss function (axis X: number of epochs, axis Y: loss function)."
   ]
  },
  {
   "cell_type": "code",
   "execution_count": 15,
   "metadata": {},
   "outputs": [
    {
     "data": {
      "image/png": "[encoded data removed]",
      "text/plain": [
       "<Figure size 576x432 with 1 Axes>"
      ]
     },
     "metadata": {
      "needs_background": "light"
     },
     "output_type": "display_data"
    }
   ],
   "source": [
    "# Your plot code here\n",
    "\n",
    "from matplotlib import pyplot as plt\n",
    "\n",
    "plt.figure(figsize=(8, 6))\n",
    "plt.plot(history)\n",
    "plt.title('Loss')\n",
    "plt.xlabel('Number of epoch')\n",
    "plt.ylabel('Loss')\n",
    "plt.grid()\n",
    "plt.show()"
   ]
  },
  {
   "cell_type": "code",
   "execution_count": 33,
   "metadata": {},
   "outputs": [],
   "source": [
    "def generate_sample(char_rnn, tokens = tokens, seed_phrase = ' Thee eye ', \n",
    "                    max_length = 100, temperature = 1., flag = False):\n",
    "    '''\n",
    "    ### Disclaimer: this is an example function for text generation.\n",
    "    ### You can either adapt it in your code or create your own function\n",
    "    \n",
    "    The function generates text given a phrase of length at least SEQ_LENGTH.\n",
    "    :param seed_phrase: prefix characters. The RNN is asked to continue the phrase\n",
    "    :param max_length: maximum output length, including seed_phrase\n",
    "    :param temperature: coefficient for sampling.  higher temperature produces more chaotic outputs, \n",
    "        smaller temperature converges to the single most likely output.\n",
    "        \n",
    "    Be careful with the model output. This model waits logits (not probabilities/log-probabilities)\n",
    "    of the next symbol.\n",
    "    '''\n",
    "  \n",
    "    def sample(preds, tokens, temperature = 1.):\n",
    "        preds =  F.softmax(preds / temperature, dim = -1).cpu().data.numpy().squeeze()\n",
    "        # print(preds.shape)\n",
    "        next_ix = np.random.choice(len(tokens), p = preds)\n",
    "        return torch.LongTensor([[next_ix]])\n",
    "\n",
    "    x_sequence = torch.Tensor([np.array([token_to_idx[token] for token in seed_phrase.lower()])]).to(device)\n",
    "    hid_state = char_rnn.initial_state(batch_size = 1)\n",
    "\n",
    "    if flag: hid_state = tuple([each.data for each in hid_state])\n",
    "\n",
    "    #feed the seed phrase, if any\n",
    "    for i in range(len(seed_phrase) - 1):\n",
    "        out, hid_state = char_rnn(torch.stack([x_sequence[:, i].long()]), hid_state)\n",
    "    \n",
    "    #start generating\n",
    "    for _ in range(max_length - len(seed_phrase)):\n",
    "        out, hid_state = char_rnn(torch.stack([x_sequence[:, -1].long()]), hid_state)\n",
    "        next_ix = sample(out, tokens, temperature)\n",
    "        x_sequence = torch.cat([x_sequence, next_ix.to(device)], dim = 1)\n",
    "    return ''.join([tokens[int(ix)] for ix in x_sequence.cpu().data.numpy()[0]])"
   ]
  },
  {
   "cell_type": "code",
   "execution_count": 39,
   "metadata": {},
   "outputs": [
    {
     "name": "stdout",
     "output_type": "stream",
     "text": [
      " thee eye for thy seen to the with the heart that it my doth thou my can thou deton when as thee, me and to the strengel in my fate is those chast thou doth this so the then my hate thee, then thy that thou have thee,\n",
      "  the true it the are thee that thy sound should the me the self thy pore thou beto grove that i stot is fact to my all me to my dear that thou art thy prease i be the with thy wate's from the repont thou when it thou then thee thee thy the bellest thee my doth then the say that wh\n"
     ]
    }
   ],
   "source": [
    "print(generate_sample(model_rnn, tokens = tokens, seed_phrase = ' Thee eye ', \n",
    "                      max_length = 500, temperature = 0.3, flag = False))"
   ]
  },
  {
   "cell_type": "code",
   "execution_count": 40,
   "metadata": {},
   "outputs": [
    {
     "name": "stdout",
     "output_type": "stream",
     "text": [
      "hide my will in thine?\n",
      "  shall will in of the simend that in my sime the seave the seave the sorll the soren the sange the seall seares and and the fart the wirl the seall the songh whing that thou hall will thoun the soond beare the with that sare the simest me the fart the wirl the songre the with thy seart so for shat so for do the dost the sing the sing the sing the soond canding the sack and the farling the wirl of sore sich and that with the seare the seall so fort the with the past the wirl the simen the wirl the sores the sare\n"
     ]
    }
   ],
   "source": [
    "# An example of generated text.\n",
    "# print(generate_text(length=500, temperature=0.2))"
   ]
  },
  {
   "cell_type": "markdown",
   "metadata": {},
   "source": [
    "### More poetic model\n",
    "\n",
    "Let's use LSTM instead of vanilla RNN and compare the results."
   ]
  },
  {
   "cell_type": "markdown",
   "metadata": {},
   "source": [
    "Plot the loss function of the number of epochs. Does the final loss become better?"
   ]
  },
  {
   "cell_type": "code",
   "execution_count": 41,
   "metadata": {},
   "outputs": [
    {
     "name": "stdout",
     "output_type": "stream",
     "text": [
      "Loss after the epoch 1 is 2.078810658906122\n",
      "Loss after the epoch 2 is 1.699354009860007\n",
      "Loss after the epoch 3 is 1.5697484391424663\n",
      "Loss after the epoch 4 is 1.492843456280506\n",
      "Loss after the epoch 5 is 1.4369866180297968\n",
      "Loss after the epoch 6 is 1.3891923653195277\n",
      "Loss after the epoch 7 is 1.3489409532693342\n",
      "Loss after the epoch 8 is 1.3137710841415484\n",
      "Loss after the epoch 9 is 1.2817745480086187\n",
      "Loss after the epoch 10 is 1.246560661993978\n",
      "Loss after the epoch 11 is 1.2153220923660357\n",
      "Loss after the epoch 12 is 1.1853757191192158\n",
      "Loss after the epoch 13 is 1.15412896795346\n",
      "Loss after the epoch 14 is 1.122852953041301\n",
      "Loss after the epoch 15 is 1.090381140751607\n",
      "Loss after the epoch 16 is 1.0589159167636082\n",
      "Loss after the epoch 17 is 1.0291123408490739\n",
      "Loss after the epoch 18 is 1.0018332129549188\n",
      "Loss after the epoch 19 is 0.9754986313297925\n",
      "Loss after the epoch 20 is 0.9509448631645163\n"
     ]
    }
   ],
   "source": [
    "class LSTM_net (nn.Module):\n",
    "    def __init__(self, n_tokens = len(tokens), hidden_dim = 256, emb_dim = 128,\n",
    "                 n_layers = 1):\n",
    "        super(LSTM_net, self).__init__()\n",
    "        self.hidden_dim = hidden_dim\n",
    "        self.emb_dim = emb_dim\n",
    "        self.n_layers = n_layers\n",
    "        self.n_tokens = emb_dim\n",
    "        \n",
    "        self.embed = nn.Embedding(n_tokens, self.emb_dim)\n",
    "        self.lstm = nn.LSTM(self.emb_dim, self.hidden_dim, batch_first =  True)\n",
    "        self.hid_to_logits = nn.Linear(self.hidden_dim, n_tokens)\n",
    "    \n",
    "    def forward(self, x, hidden_state):\n",
    "        out, hidden_state = self.lstm(self.embed(x), hidden_state)\n",
    "        out = self.hid_to_logits(out)\n",
    "        return out, hidden_state\n",
    "    \n",
    "    def initial_state(self, batch_size):\n",
    "        weight = next(self.parameters()).data\n",
    "        hidden = (weight.new(self.n_layers, batch_size, self.hidden_dim).zero_().to(device),\n",
    "        weight.new(self.n_layers, batch_size, self.hidden_dim).zero_().to(device))\n",
    "        return hidden\n",
    "\n",
    "model_lstm = LSTM_net()\n",
    "opt = torch.optim.Adam(model_lstm.parameters())\n",
    "model_lstm.to(device)\n",
    "criterion = nn.CrossEntropyLoss()\n",
    "\n",
    "n_epochs = 20\n",
    "history = []\n",
    "_ = model_lstm.train()\n",
    "for epoch in range(n_epochs):\n",
    "    ep_history = []\n",
    "    hidden_state = model_lstm.initial_state(batch_size)\n",
    "    for batch_ind in range(batch_size, x.shape[0], batch_size):\n",
    "        \n",
    "        x_batch = torch.argmax(torch.Tensor(x[batch_ind - batch_size : batch_ind]), dim = -1).to(device)\n",
    "        y_batch = torch.argmax(torch.Tensor(y[batch_ind - batch_size : batch_ind]), dim = -1).to(device)\n",
    "\n",
    "        hidden_state = tuple([each.data for each in hidden_state])\n",
    "\n",
    "        opt.zero_grad()\n",
    "    \n",
    "        seq, hidden_state = model_lstm(x_batch, hidden_state)\n",
    "        loss = criterion(seq[:, -1].contiguous(), y_batch.contiguous())  \n",
    "        loss.backward()\n",
    "        opt.step()  \n",
    "        ep_history.append(loss.item())\n",
    "    history.append(np.mean(ep_history))\n",
    "    print(f'Loss after the epoch {epoch + 1} is {history[-1]}')"
   ]
  },
  {
   "cell_type": "code",
   "execution_count": 42,
   "metadata": {},
   "outputs": [
    {
     "data": {
      "image/png": "[encoded data removed]",
      "text/plain": [
       "<Figure size 576x432 with 1 Axes>"
      ]
     },
     "metadata": {
      "needs_background": "light"
     },
     "output_type": "display_data"
    }
   ],
   "source": [
    "from matplotlib import pyplot as plt\n",
    "\n",
    "plt.figure(figsize=(8, 6))\n",
    "plt.plot(history)\n",
    "plt.title('Loss')\n",
    "plt.xlabel('Number of epoch')\n",
    "plt.ylabel('Loss')\n",
    "plt.grid()\n",
    "plt.show()"
   ]
  },
  {
   "cell_type": "markdown",
   "metadata": {},
   "source": [
    "Generate text using the trained net with different `temperature` parameter: `[0.1, 0.2, 0.5, 1.0, 2.0]`.\n",
    "\n",
    "Evaluate the results visually, try to interpret them."
   ]
  },
  {
   "cell_type": "code",
   "execution_count": 45,
   "metadata": {},
   "outputs": [
    {
     "name": "stdout",
     "output_type": "stream",
     "text": [
      "Temperature is 0.1\n",
      " thee eye is me,\n",
      "    and then the truth that i have see the worst,\n",
      "  when i am thy self thou art thou art the worst,\n",
      "  when thou thy self thy sweet self desire\n",
      "  the worst thou thy self thy sweet self doth lie,\n",
      "  do i not love is as the state of thy side,\n",
      "  but i do i not so do not so deep,\n",
      "    and then the truth that i do conceit on me,\n",
      "    and then the truth that i do conceit on thee,\n",
      "  that i do conceit of thy beauty's love to sing\n",
      "  that i do constant on thy sweet self desire?\n",
      "  o! no! not i\n",
      "----------------\n",
      "Temperature is 0.2\n",
      " thee eye asur'd,\n",
      "    and then the truth that i do conceit on thee,\n",
      "  that i do constant and thee i so despair,\n",
      "    and then the truth that i have seen to my heart,\n",
      "  the confess'd i thy beauty's love is best,\n",
      "  whilst i that thou then my friend and i may,\n",
      "  deserv'd then my love that thou art the worst,\n",
      "  when thou art thou though i my thought thee how mad desert,\n",
      "  and i no more that thou art thou art the worst,\n",
      "  when thou thy self thy sweet self i love,\n",
      "  and in my mind thee i am not be dese\n",
      "----------------\n",
      "Temperature is 0.5\n",
      " thee eye aside\n",
      "  i love that thou my become the words be no ene.\n",
      "  the dear though not from this thy friend make thee,\n",
      "  the worser words would thy unkindness so grown,\n",
      "  who like a false i am not in love,\n",
      "  the world i love away the world me nor the first,\n",
      "  when from thy sweet see disgrace and thee is my lips;\n",
      "  and in our love thee that i do confounds\n",
      "  i am thee i not from thy love to crive the shown;\n",
      "    i love and i love that thou art more that i have state,\n",
      "  and in the state where are d\n",
      "----------------\n",
      "Temperature is 1.0\n",
      " thee eye long,\n",
      "  and see disgrace with his criply ill men.\n",
      "  loves for eternal lotted on thee love's look;\n",
      "  but land thou simple with that thy me?n 'tis 'grance their gay.\n",
      "  is ray 'nditic with tear'st great as blessed despise,\n",
      "  o taught the fickness complenger my fears with me,\n",
      "  what me, not thou love my next desired be,\n",
      "  the hours my body is transt the inworrited,\n",
      "  creating tell men love that why shell rime,\n",
      "  art an her far form imand to brops many face,\n",
      "  as false of the lay charge\n",
      "  i\n",
      "----------------\n",
      "Temperature is 2.0\n",
      " thee eye is invent\n",
      " 'otenjewes torgu, sight the c-mil'd;\n",
      "  grey new, deverign and by me natu:\n",
      "  mannic enjow its uphy eighrit?\n",
      "  awainsy, by aigarenes'd grith;\n",
      "  no! though in stial whose with kill'v'd\n",
      "  tgem, are frof. caunsor of hend kiclair lost;\n",
      "  tus' giok decex'd, our cast wide; be nhir brow,\n",
      "  west vouse, cobced evpranty, geft aloly did\n",
      "  coron, neven cheach to ruruax's sloage\n",
      "  i wit drow, arvveaty disenamflyai'd;\n",
      "  one! bont j(yn of dy, be't born,\n",
      "  torguict turns it nwixer'd ead florn\n",
      "----------------\n"
     ]
    }
   ],
   "source": [
    "# Text generation with different temperature values here\n",
    "temperature_collection = [0.1, 0.2, 0.5, 1.0, 2.0]\n",
    "for temp in temperature_collection:\n",
    "    print(f'Temperature is {temp}')\n",
    "    print(generate_sample(model_lstm, tokens = tokens, seed_phrase = ' Thee eye ', \n",
    "                          max_length = 500, temperature = temp, flag = False))\n",
    "    print('----------------')"
   ]
  },
  {
   "cell_type": "markdown",
   "metadata": {},
   "source": [
    "Temperature is a hyperparameter that controls the randomness of predictions by scaling the logits before applying softmax. It can be noticed that generated texts with higher temperature have more mistakes since higher temperature increases the sensitivity to low probability candidates. On the other hand with low temperature obtained texts have less diversity and more repeats. To me for this task the text with temperature = 0.5 seems the best."
   ]
  },
  {
   "cell_type": "markdown",
   "metadata": {},
   "source": [
    "### Saving and loading models"
   ]
  },
  {
   "cell_type": "markdown",
   "metadata": {},
   "source": [
    "Save the model to the disk, then load it and generate text. Examples are available [here](https://pytorch.org/tutorials/beginner/saving_loading_models.html])."
   ]
  },
  {
   "cell_type": "code",
   "execution_count": 50,
   "metadata": {},
   "outputs": [
    {
     "data": {
      "text/plain": [
       "LSTM_net(\n",
       "  (embed): Embedding(38, 128)\n",
       "  (lstm): LSTM(128, 256, batch_first=True)\n",
       "  (hid_to_logits): Linear(in_features=256, out_features=38, bias=True)\n",
       ")"
      ]
     },
     "execution_count": 50,
     "metadata": {},
     "output_type": "execute_result"
    }
   ],
   "source": [
    "# Saving and loading code here\n",
    "torch.save(model_lstm.state_dict(), 'fitted_LSTM.net')\n",
    "\n",
    "model = LSTM_net(n_tokens = len(tokens), hidden_dim = 256, emb_dim = 128,\n",
    "                 n_layers = 1)\n",
    "model.load_state_dict(torch.load('fitted_LSTM.net'))\n",
    "model.eval()"
   ]
  },
  {
   "cell_type": "code",
   "execution_count": 52,
   "metadata": {},
   "outputs": [
    {
     "name": "stdout",
     "output_type": "stream",
     "text": [
      " greetings to be,\n",
      "    and thence thou mayst thou art thou art the vill,\n",
      "  and i do i not from the fairest in my sin,\n",
      "    lest thy self thou lov'st thou thy self dross,\n",
      "  or what then my that i have still love that then in thy heart,\n",
      "    and then thou lov'st the worst thou in love,\n",
      "  and thou thou lov'st to my best express'd\n",
      "  for i have seen the paint of thy beauty's live?\n",
      "    but in the world i love that thou less my name,\n",
      "  creating thy sweet from my soul doth lies do not to my mind,\n",
      "    and y\n"
     ]
    }
   ],
   "source": [
    "print(generate_sample(model, tokens = tokens, seed_phrase = ' Greetings ', \n",
    "                      max_length = 500, temperature = 0.4, flag = False))"
   ]
  },
  {
   "cell_type": "markdown",
   "metadata": {},
   "source": [
    "### References\n",
    "1. <a href='http://karpathy.github.io/2015/05/21/rnn-effectiveness/'> Andrew Karpathy blog post about RNN. </a> \n",
    "There are several examples of genration: Shakespeare texts, Latex formulas, Linux Sourse Code and children names.\n",
    "2. <a href='https://github.com/karpathy/char-rnn'> Repo with char-rnn code </a>\n",
    "3. Cool repo with PyTorch examples: [link](https://github.com/spro/practical-pytorch`)"
   ]
  }
 ],
 "metadata": {
  "anaconda-cloud": {},
  "kernelspec": {
   "display_name": "Python 3",
   "language": "python",
   "name": "python3"
  },
  "language_info": {
   "codemirror_mode": {
    "name": "ipython",
    "version": 3
   },
   "file_extension": ".py",
   "mimetype": "text/x-python",
   "name": "python",
   "nbconvert_exporter": "python",
   "pygments_lexer": "ipython3",
   "version": "3.7.4"
  }
 },
 "nbformat": 4,
 "nbformat_minor": 2
}
